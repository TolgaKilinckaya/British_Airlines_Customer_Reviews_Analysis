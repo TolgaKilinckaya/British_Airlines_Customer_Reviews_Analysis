{
 "cells": [
  {
   "cell_type": "markdown",
   "metadata": {},
   "source": [
    "# Import"
   ]
  },
  {
   "cell_type": "code",
   "execution_count": 1,
   "metadata": {},
   "outputs": [],
   "source": [
    "import pandas as pd\n",
    "import numpy as np\n",
    "import matplotlib.pyplot as plt\n",
    "import seaborn as sbn"
   ]
  },
  {
   "cell_type": "code",
   "execution_count": 2,
   "metadata": {},
   "outputs": [],
   "source": [
    "df = pd.read_csv(\"BA_reviews.csv\")"
   ]
  },
  {
   "cell_type": "markdown",
   "metadata": {},
   "source": [
    "# Veri Düzenleme"
   ]
  },
  {
   "cell_type": "code",
   "execution_count": 3,
   "metadata": {},
   "outputs": [
    {
     "data": {
      "text/html": [
       "<div>\n",
       "<style scoped>\n",
       "    .dataframe tbody tr th:only-of-type {\n",
       "        vertical-align: middle;\n",
       "    }\n",
       "\n",
       "    .dataframe tbody tr th {\n",
       "        vertical-align: top;\n",
       "    }\n",
       "\n",
       "    .dataframe thead th {\n",
       "        text-align: right;\n",
       "    }\n",
       "</style>\n",
       "<table border=\"1\" class=\"dataframe\">\n",
       "  <thead>\n",
       "    <tr style=\"text-align: right;\">\n",
       "      <th></th>\n",
       "      <th>Unnamed: 0</th>\n",
       "      <th>reviews</th>\n",
       "    </tr>\n",
       "  </thead>\n",
       "  <tbody>\n",
       "    <tr>\n",
       "      <th>0</th>\n",
       "      <td>0</td>\n",
       "      <td>✅ Trip Verified | Despite boarding being the u...</td>\n",
       "    </tr>\n",
       "    <tr>\n",
       "      <th>1</th>\n",
       "      <td>1</td>\n",
       "      <td>Not Verified |  Flight cancelled, no crew! 9th...</td>\n",
       "    </tr>\n",
       "    <tr>\n",
       "      <th>2</th>\n",
       "      <td>2</td>\n",
       "      <td>Not Verified |  The worst service ever, my bag...</td>\n",
       "    </tr>\n",
       "    <tr>\n",
       "      <th>3</th>\n",
       "      <td>3</td>\n",
       "      <td>✅ Trip Verified |  4/4 flights we booked this ...</td>\n",
       "    </tr>\n",
       "    <tr>\n",
       "      <th>4</th>\n",
       "      <td>4</td>\n",
       "      <td>✅ Trip Verified |  British Airways has a total...</td>\n",
       "    </tr>\n",
       "    <tr>\n",
       "      <th>...</th>\n",
       "      <td>...</td>\n",
       "      <td>...</td>\n",
       "    </tr>\n",
       "    <tr>\n",
       "      <th>995</th>\n",
       "      <td>995</td>\n",
       "      <td>✅ Trip Verified |  London to Boston. I was sea...</td>\n",
       "    </tr>\n",
       "    <tr>\n",
       "      <th>996</th>\n",
       "      <td>996</td>\n",
       "      <td>✅ Trip Verified | Stockholm to London. Standar...</td>\n",
       "    </tr>\n",
       "    <tr>\n",
       "      <th>997</th>\n",
       "      <td>997</td>\n",
       "      <td>✅ Trip Verified |  Amsterdam to London arrived...</td>\n",
       "    </tr>\n",
       "    <tr>\n",
       "      <th>998</th>\n",
       "      <td>998</td>\n",
       "      <td>✅ Trip Verified |  Buenos Aires to London. We ...</td>\n",
       "    </tr>\n",
       "    <tr>\n",
       "      <th>999</th>\n",
       "      <td>999</td>\n",
       "      <td>✅ Trip Verified |  Business Class space is rid...</td>\n",
       "    </tr>\n",
       "  </tbody>\n",
       "</table>\n",
       "<p>1000 rows × 2 columns</p>\n",
       "</div>"
      ],
      "text/plain": [
       "     Unnamed: 0                                            reviews\n",
       "0             0  ✅ Trip Verified | Despite boarding being the u...\n",
       "1             1  Not Verified |  Flight cancelled, no crew! 9th...\n",
       "2             2  Not Verified |  The worst service ever, my bag...\n",
       "3             3  ✅ Trip Verified |  4/4 flights we booked this ...\n",
       "4             4  ✅ Trip Verified |  British Airways has a total...\n",
       "..          ...                                                ...\n",
       "995         995  ✅ Trip Verified |  London to Boston. I was sea...\n",
       "996         996  ✅ Trip Verified | Stockholm to London. Standar...\n",
       "997         997  ✅ Trip Verified |  Amsterdam to London arrived...\n",
       "998         998  ✅ Trip Verified |  Buenos Aires to London. We ...\n",
       "999         999  ✅ Trip Verified |  Business Class space is rid...\n",
       "\n",
       "[1000 rows x 2 columns]"
      ]
     },
     "execution_count": 3,
     "metadata": {},
     "output_type": "execute_result"
    }
   ],
   "source": [
    "df"
   ]
  },
  {
   "cell_type": "code",
   "execution_count": 4,
   "metadata": {},
   "outputs": [],
   "source": [
    "df.columns = [\"Index\", \"Onay_Durumu_ve_Yorum\"]"
   ]
  },
  {
   "cell_type": "code",
   "execution_count": 5,
   "metadata": {},
   "outputs": [
    {
     "data": {
      "text/html": [
       "<div>\n",
       "<style scoped>\n",
       "    .dataframe tbody tr th:only-of-type {\n",
       "        vertical-align: middle;\n",
       "    }\n",
       "\n",
       "    .dataframe tbody tr th {\n",
       "        vertical-align: top;\n",
       "    }\n",
       "\n",
       "    .dataframe thead th {\n",
       "        text-align: right;\n",
       "    }\n",
       "</style>\n",
       "<table border=\"1\" class=\"dataframe\">\n",
       "  <thead>\n",
       "    <tr style=\"text-align: right;\">\n",
       "      <th></th>\n",
       "      <th>Index</th>\n",
       "      <th>Onay_Durumu_ve_Yorum</th>\n",
       "    </tr>\n",
       "  </thead>\n",
       "  <tbody>\n",
       "    <tr>\n",
       "      <th>0</th>\n",
       "      <td>0</td>\n",
       "      <td>✅ Trip Verified | Despite boarding being the u...</td>\n",
       "    </tr>\n",
       "    <tr>\n",
       "      <th>1</th>\n",
       "      <td>1</td>\n",
       "      <td>Not Verified |  Flight cancelled, no crew! 9th...</td>\n",
       "    </tr>\n",
       "    <tr>\n",
       "      <th>2</th>\n",
       "      <td>2</td>\n",
       "      <td>Not Verified |  The worst service ever, my bag...</td>\n",
       "    </tr>\n",
       "    <tr>\n",
       "      <th>3</th>\n",
       "      <td>3</td>\n",
       "      <td>✅ Trip Verified |  4/4 flights we booked this ...</td>\n",
       "    </tr>\n",
       "    <tr>\n",
       "      <th>4</th>\n",
       "      <td>4</td>\n",
       "      <td>✅ Trip Verified |  British Airways has a total...</td>\n",
       "    </tr>\n",
       "    <tr>\n",
       "      <th>...</th>\n",
       "      <td>...</td>\n",
       "      <td>...</td>\n",
       "    </tr>\n",
       "    <tr>\n",
       "      <th>995</th>\n",
       "      <td>995</td>\n",
       "      <td>✅ Trip Verified |  London to Boston. I was sea...</td>\n",
       "    </tr>\n",
       "    <tr>\n",
       "      <th>996</th>\n",
       "      <td>996</td>\n",
       "      <td>✅ Trip Verified | Stockholm to London. Standar...</td>\n",
       "    </tr>\n",
       "    <tr>\n",
       "      <th>997</th>\n",
       "      <td>997</td>\n",
       "      <td>✅ Trip Verified |  Amsterdam to London arrived...</td>\n",
       "    </tr>\n",
       "    <tr>\n",
       "      <th>998</th>\n",
       "      <td>998</td>\n",
       "      <td>✅ Trip Verified |  Buenos Aires to London. We ...</td>\n",
       "    </tr>\n",
       "    <tr>\n",
       "      <th>999</th>\n",
       "      <td>999</td>\n",
       "      <td>✅ Trip Verified |  Business Class space is rid...</td>\n",
       "    </tr>\n",
       "  </tbody>\n",
       "</table>\n",
       "<p>1000 rows × 2 columns</p>\n",
       "</div>"
      ],
      "text/plain": [
       "     Index                               Onay_Durumu_ve_Yorum\n",
       "0        0  ✅ Trip Verified | Despite boarding being the u...\n",
       "1        1  Not Verified |  Flight cancelled, no crew! 9th...\n",
       "2        2  Not Verified |  The worst service ever, my bag...\n",
       "3        3  ✅ Trip Verified |  4/4 flights we booked this ...\n",
       "4        4  ✅ Trip Verified |  British Airways has a total...\n",
       "..     ...                                                ...\n",
       "995    995  ✅ Trip Verified |  London to Boston. I was sea...\n",
       "996    996  ✅ Trip Verified | Stockholm to London. Standar...\n",
       "997    997  ✅ Trip Verified |  Amsterdam to London arrived...\n",
       "998    998  ✅ Trip Verified |  Buenos Aires to London. We ...\n",
       "999    999  ✅ Trip Verified |  Business Class space is rid...\n",
       "\n",
       "[1000 rows x 2 columns]"
      ]
     },
     "execution_count": 5,
     "metadata": {},
     "output_type": "execute_result"
    }
   ],
   "source": [
    "df"
   ]
  },
  {
   "cell_type": "code",
   "execution_count": 6,
   "metadata": {},
   "outputs": [],
   "source": [
    "df[['Onay_Durumu', 'Yorum']] = df['Onay_Durumu_ve_Yorum'].str.split('|', expand=True)"
   ]
  },
  {
   "cell_type": "code",
   "execution_count": 7,
   "metadata": {},
   "outputs": [],
   "source": [
    "df = df.drop(columns=['Onay_Durumu_ve_Yorum'])"
   ]
  },
  {
   "cell_type": "code",
   "execution_count": 8,
   "metadata": {},
   "outputs": [],
   "source": [
    "df = df.drop(columns=['Index'])"
   ]
  },
  {
   "cell_type": "code",
   "execution_count": 9,
   "metadata": {},
   "outputs": [
    {
     "data": {
      "text/html": [
       "<div>\n",
       "<style scoped>\n",
       "    .dataframe tbody tr th:only-of-type {\n",
       "        vertical-align: middle;\n",
       "    }\n",
       "\n",
       "    .dataframe tbody tr th {\n",
       "        vertical-align: top;\n",
       "    }\n",
       "\n",
       "    .dataframe thead th {\n",
       "        text-align: right;\n",
       "    }\n",
       "</style>\n",
       "<table border=\"1\" class=\"dataframe\">\n",
       "  <thead>\n",
       "    <tr style=\"text-align: right;\">\n",
       "      <th></th>\n",
       "      <th>Onay_Durumu</th>\n",
       "      <th>Yorum</th>\n",
       "    </tr>\n",
       "  </thead>\n",
       "  <tbody>\n",
       "    <tr>\n",
       "      <th>0</th>\n",
       "      <td>✅ Trip Verified</td>\n",
       "      <td>Despite boarding being the usual free for all...</td>\n",
       "    </tr>\n",
       "    <tr>\n",
       "      <th>1</th>\n",
       "      <td>Not Verified</td>\n",
       "      <td>Flight cancelled, no crew! 9th September 202...</td>\n",
       "    </tr>\n",
       "    <tr>\n",
       "      <th>2</th>\n",
       "      <td>Not Verified</td>\n",
       "      <td>The worst service ever, my baggage did not a...</td>\n",
       "    </tr>\n",
       "    <tr>\n",
       "      <th>3</th>\n",
       "      <td>✅ Trip Verified</td>\n",
       "      <td>4/4 flights we booked this holiday were dela...</td>\n",
       "    </tr>\n",
       "    <tr>\n",
       "      <th>4</th>\n",
       "      <td>✅ Trip Verified</td>\n",
       "      <td>British Airways has a total lack of respect ...</td>\n",
       "    </tr>\n",
       "  </tbody>\n",
       "</table>\n",
       "</div>"
      ],
      "text/plain": [
       "        Onay_Durumu                                              Yorum\n",
       "0  ✅ Trip Verified    Despite boarding being the usual free for all...\n",
       "1     Not Verified     Flight cancelled, no crew! 9th September 202...\n",
       "2     Not Verified     The worst service ever, my baggage did not a...\n",
       "3  ✅ Trip Verified     4/4 flights we booked this holiday were dela...\n",
       "4  ✅ Trip Verified     British Airways has a total lack of respect ..."
      ]
     },
     "execution_count": 9,
     "metadata": {},
     "output_type": "execute_result"
    }
   ],
   "source": [
    "df.head()"
   ]
  },
  {
   "cell_type": "code",
   "execution_count": 10,
   "metadata": {},
   "outputs": [],
   "source": [
    "df[\"Onay_Durumu\"] = df[\"Onay_Durumu\"].str.replace(\"✅\", \"\").str.strip()"
   ]
  },
  {
   "cell_type": "code",
   "execution_count": 11,
   "metadata": {},
   "outputs": [
    {
     "data": {
      "text/html": [
       "<div>\n",
       "<style scoped>\n",
       "    .dataframe tbody tr th:only-of-type {\n",
       "        vertical-align: middle;\n",
       "    }\n",
       "\n",
       "    .dataframe tbody tr th {\n",
       "        vertical-align: top;\n",
       "    }\n",
       "\n",
       "    .dataframe thead th {\n",
       "        text-align: right;\n",
       "    }\n",
       "</style>\n",
       "<table border=\"1\" class=\"dataframe\">\n",
       "  <thead>\n",
       "    <tr style=\"text-align: right;\">\n",
       "      <th></th>\n",
       "      <th>Onay_Durumu</th>\n",
       "      <th>Yorum</th>\n",
       "    </tr>\n",
       "  </thead>\n",
       "  <tbody>\n",
       "    <tr>\n",
       "      <th>0</th>\n",
       "      <td>Trip Verified</td>\n",
       "      <td>Despite boarding being the usual free for all...</td>\n",
       "    </tr>\n",
       "    <tr>\n",
       "      <th>1</th>\n",
       "      <td>Not Verified</td>\n",
       "      <td>Flight cancelled, no crew! 9th September 202...</td>\n",
       "    </tr>\n",
       "    <tr>\n",
       "      <th>2</th>\n",
       "      <td>Not Verified</td>\n",
       "      <td>The worst service ever, my baggage did not a...</td>\n",
       "    </tr>\n",
       "    <tr>\n",
       "      <th>3</th>\n",
       "      <td>Trip Verified</td>\n",
       "      <td>4/4 flights we booked this holiday were dela...</td>\n",
       "    </tr>\n",
       "    <tr>\n",
       "      <th>4</th>\n",
       "      <td>Trip Verified</td>\n",
       "      <td>British Airways has a total lack of respect ...</td>\n",
       "    </tr>\n",
       "    <tr>\n",
       "      <th>...</th>\n",
       "      <td>...</td>\n",
       "      <td>...</td>\n",
       "    </tr>\n",
       "    <tr>\n",
       "      <th>995</th>\n",
       "      <td>Trip Verified</td>\n",
       "      <td>London to Boston. I was seated next to a cus...</td>\n",
       "    </tr>\n",
       "    <tr>\n",
       "      <th>996</th>\n",
       "      <td>Trip Verified</td>\n",
       "      <td>Stockholm to London. Standard configuration o...</td>\n",
       "    </tr>\n",
       "    <tr>\n",
       "      <th>997</th>\n",
       "      <td>Trip Verified</td>\n",
       "      <td>Amsterdam to London arrived 33 minutes late ...</td>\n",
       "    </tr>\n",
       "    <tr>\n",
       "      <th>998</th>\n",
       "      <td>Trip Verified</td>\n",
       "      <td>Buenos Aires to London. We flew overnight Fr...</td>\n",
       "    </tr>\n",
       "    <tr>\n",
       "      <th>999</th>\n",
       "      <td>Trip Verified</td>\n",
       "      <td>Business Class space is ridiculously narrow....</td>\n",
       "    </tr>\n",
       "  </tbody>\n",
       "</table>\n",
       "<p>1000 rows × 2 columns</p>\n",
       "</div>"
      ],
      "text/plain": [
       "       Onay_Durumu                                              Yorum\n",
       "0    Trip Verified   Despite boarding being the usual free for all...\n",
       "1     Not Verified    Flight cancelled, no crew! 9th September 202...\n",
       "2     Not Verified    The worst service ever, my baggage did not a...\n",
       "3    Trip Verified    4/4 flights we booked this holiday were dela...\n",
       "4    Trip Verified    British Airways has a total lack of respect ...\n",
       "..             ...                                                ...\n",
       "995  Trip Verified    London to Boston. I was seated next to a cus...\n",
       "996  Trip Verified   Stockholm to London. Standard configuration o...\n",
       "997  Trip Verified    Amsterdam to London arrived 33 minutes late ...\n",
       "998  Trip Verified    Buenos Aires to London. We flew overnight Fr...\n",
       "999  Trip Verified    Business Class space is ridiculously narrow....\n",
       "\n",
       "[1000 rows x 2 columns]"
      ]
     },
     "execution_count": 11,
     "metadata": {},
     "output_type": "execute_result"
    }
   ],
   "source": [
    "df"
   ]
  },
  {
   "cell_type": "markdown",
   "metadata": {},
   "source": [
    "# Yorum Analizi"
   ]
  },
  {
   "cell_type": "code",
   "execution_count": 12,
   "metadata": {},
   "outputs": [],
   "source": [
    "from textblob import TextBlob"
   ]
  },
  {
   "cell_type": "code",
   "execution_count": 13,
   "metadata": {},
   "outputs": [],
   "source": [
    "def sentiment_analysis(text):\n",
    "    analysis = TextBlob(text)\n",
    "    if analysis.sentiment.polarity > 0.0:\n",
    "        return \"iyi\"\n",
    "    elif analysis.sentiment.polarity < 0.0:\n",
    "        return \"kötü\"\n",
    "    else:\n",
    "        return \"nötr\""
   ]
  },
  {
   "cell_type": "code",
   "execution_count": 14,
   "metadata": {},
   "outputs": [],
   "source": [
    "df[\"Yorum_Tipi\"] = df[\"Yorum\"].apply(sentiment_analysis)"
   ]
  },
  {
   "cell_type": "code",
   "execution_count": 15,
   "metadata": {},
   "outputs": [
    {
     "data": {
      "text/html": [
       "<div>\n",
       "<style scoped>\n",
       "    .dataframe tbody tr th:only-of-type {\n",
       "        vertical-align: middle;\n",
       "    }\n",
       "\n",
       "    .dataframe tbody tr th {\n",
       "        vertical-align: top;\n",
       "    }\n",
       "\n",
       "    .dataframe thead th {\n",
       "        text-align: right;\n",
       "    }\n",
       "</style>\n",
       "<table border=\"1\" class=\"dataframe\">\n",
       "  <thead>\n",
       "    <tr style=\"text-align: right;\">\n",
       "      <th></th>\n",
       "      <th>Onay_Durumu</th>\n",
       "      <th>Yorum</th>\n",
       "      <th>Yorum_Tipi</th>\n",
       "    </tr>\n",
       "  </thead>\n",
       "  <tbody>\n",
       "    <tr>\n",
       "      <th>0</th>\n",
       "      <td>Trip Verified</td>\n",
       "      <td>Despite boarding being the usual free for all...</td>\n",
       "      <td>iyi</td>\n",
       "    </tr>\n",
       "    <tr>\n",
       "      <th>1</th>\n",
       "      <td>Not Verified</td>\n",
       "      <td>Flight cancelled, no crew! 9th September 202...</td>\n",
       "      <td>kötü</td>\n",
       "    </tr>\n",
       "    <tr>\n",
       "      <th>2</th>\n",
       "      <td>Not Verified</td>\n",
       "      <td>The worst service ever, my baggage did not a...</td>\n",
       "      <td>kötü</td>\n",
       "    </tr>\n",
       "    <tr>\n",
       "      <th>3</th>\n",
       "      <td>Trip Verified</td>\n",
       "      <td>4/4 flights we booked this holiday were dela...</td>\n",
       "      <td>kötü</td>\n",
       "    </tr>\n",
       "    <tr>\n",
       "      <th>4</th>\n",
       "      <td>Trip Verified</td>\n",
       "      <td>British Airways has a total lack of respect ...</td>\n",
       "      <td>kötü</td>\n",
       "    </tr>\n",
       "    <tr>\n",
       "      <th>...</th>\n",
       "      <td>...</td>\n",
       "      <td>...</td>\n",
       "      <td>...</td>\n",
       "    </tr>\n",
       "    <tr>\n",
       "      <th>995</th>\n",
       "      <td>Trip Verified</td>\n",
       "      <td>London to Boston. I was seated next to a cus...</td>\n",
       "      <td>iyi</td>\n",
       "    </tr>\n",
       "    <tr>\n",
       "      <th>996</th>\n",
       "      <td>Trip Verified</td>\n",
       "      <td>Stockholm to London. Standard configuration o...</td>\n",
       "      <td>iyi</td>\n",
       "    </tr>\n",
       "    <tr>\n",
       "      <th>997</th>\n",
       "      <td>Trip Verified</td>\n",
       "      <td>Amsterdam to London arrived 33 minutes late ...</td>\n",
       "      <td>iyi</td>\n",
       "    </tr>\n",
       "    <tr>\n",
       "      <th>998</th>\n",
       "      <td>Trip Verified</td>\n",
       "      <td>Buenos Aires to London. We flew overnight Fr...</td>\n",
       "      <td>kötü</td>\n",
       "    </tr>\n",
       "    <tr>\n",
       "      <th>999</th>\n",
       "      <td>Trip Verified</td>\n",
       "      <td>Business Class space is ridiculously narrow....</td>\n",
       "      <td>kötü</td>\n",
       "    </tr>\n",
       "  </tbody>\n",
       "</table>\n",
       "<p>1000 rows × 3 columns</p>\n",
       "</div>"
      ],
      "text/plain": [
       "       Onay_Durumu                                              Yorum  \\\n",
       "0    Trip Verified   Despite boarding being the usual free for all...   \n",
       "1     Not Verified    Flight cancelled, no crew! 9th September 202...   \n",
       "2     Not Verified    The worst service ever, my baggage did not a...   \n",
       "3    Trip Verified    4/4 flights we booked this holiday were dela...   \n",
       "4    Trip Verified    British Airways has a total lack of respect ...   \n",
       "..             ...                                                ...   \n",
       "995  Trip Verified    London to Boston. I was seated next to a cus...   \n",
       "996  Trip Verified   Stockholm to London. Standard configuration o...   \n",
       "997  Trip Verified    Amsterdam to London arrived 33 minutes late ...   \n",
       "998  Trip Verified    Buenos Aires to London. We flew overnight Fr...   \n",
       "999  Trip Verified    Business Class space is ridiculously narrow....   \n",
       "\n",
       "    Yorum_Tipi  \n",
       "0          iyi  \n",
       "1         kötü  \n",
       "2         kötü  \n",
       "3         kötü  \n",
       "4         kötü  \n",
       "..         ...  \n",
       "995        iyi  \n",
       "996        iyi  \n",
       "997        iyi  \n",
       "998       kötü  \n",
       "999       kötü  \n",
       "\n",
       "[1000 rows x 3 columns]"
      ]
     },
     "execution_count": 15,
     "metadata": {},
     "output_type": "execute_result"
    }
   ],
   "source": [
    "df"
   ]
  },
  {
   "cell_type": "code",
   "execution_count": 17,
   "metadata": {},
   "outputs": [
    {
     "data": {
      "text/plain": [
       "0"
      ]
     },
     "execution_count": 17,
     "metadata": {},
     "output_type": "execute_result"
    }
   ],
   "source": [
    "df.isna().sum().sum()"
   ]
  },
  {
   "cell_type": "code",
   "execution_count": null,
   "metadata": {},
   "outputs": [],
   "source": [
    "yorum_sayilari = df['Yorum_Tipi'].value_counts()\n",
    "\n",
    "# Bar grafiğini oluşturun\n",
    "plt.figure(figsize=(10,6))\n",
    "plt.bar(yorum_sayilari.index, yorum_sayilari.values)\n",
    "\n",
    "plt.title('Yorum Tiplerine Göre Sayılar')\n",
    "plt.ylabel('Sayı', fontsize=12)\n",
    "plt.xlabel('Yorum Tipi', fontsize=12)\n",
    "\n",
    "plt.show()"
   ]
  },
  {
   "cell_type": "code",
   "execution_count": null,
   "metadata": {},
   "outputs": [],
   "source": []
  }
 ],
 "metadata": {
  "kernelspec": {
   "display_name": "Python 3.8.10 64-bit (microsoft store)",
   "language": "python",
   "name": "python3"
  },
  "language_info": {
   "codemirror_mode": {
    "name": "ipython",
    "version": 3
   },
   "file_extension": ".py",
   "mimetype": "text/x-python",
   "name": "python",
   "nbconvert_exporter": "python",
   "pygments_lexer": "ipython3",
   "version": "3.8.10"
  },
  "orig_nbformat": 4,
  "vscode": {
   "interpreter": {
    "hash": "42458545484000bf6c73f594349261ccb3c60320ad400363c8531ed8c5d8a2a1"
   }
  }
 },
 "nbformat": 4,
 "nbformat_minor": 2
}
